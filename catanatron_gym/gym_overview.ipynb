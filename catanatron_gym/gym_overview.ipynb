{
 "cells": [
  {
   "cell_type": "code",
   "execution_count": 23,
   "metadata": {},
   "outputs": [],
   "source": [
    "import random\n",
    "import gymnasium as gym\n",
    "from selenium import webdriver\n",
    "from catanatron_server.utils import open_link,ensure_link\n",
    "import webbrowser\n",
    "import time"
   ]
  },
  {
   "cell_type": "code",
   "execution_count": 29,
   "metadata": {},
   "outputs": [],
   "source": [
    "def render(game):\n",
    "    # options = webdriver.FirefoxOptions()\n",
    "    # driver = webdriver.Firefox(options=options)\n",
    "    geckodriver_path = \"/snap/bin/geckodriver\"\n",
    "    driver_service = webdriver.FirefoxService(executable_path=geckodriver_path)\n",
    "\n",
    "    driver = webdriver.Firefox(service=driver_service)\n",
    "    link = ensure_link(game)\n",
    "    driver.get(link)\n",
    "    time.sleep(1)\n",
    "    # driver.get_screenshot_as_png('image.png')\n",
    "    driver.save_screenshot('image.png')\n",
    "    # print(driver.get_screenshot_as_png()) \n",
    "    # driver.close()\n",
    "    # TODO: save using screenshot as png then convert to pil"
   ]
  },
  {
   "cell_type": "code",
   "execution_count": 30,
   "metadata": {},
   "outputs": [
    {
     "name": "stderr",
     "output_type": "stream",
     "text": [
      "/home/alex/anaconda3/envs/catan/lib/python3.11/site-packages/gymnasium/core.py:311: UserWarning: \u001b[33mWARN: env.game to get variables from other wrappers is deprecated and will be removed in v1.0, to get this variable you can do `env.unwrapped.game` for environment variables or `env.get_wrapper_attr('game')` that will search the reminding wrappers.\u001b[0m\n",
      "  logger.warn(\n"
     ]
    }
   ],
   "source": [
    "env = gym.make(\"catanatron_gym:catanatron-v1\")\n",
    "observation, info = env.reset()\n",
    "\n",
    "for _ in range(3):\n",
    "    # your agent here (this takes random actions)\n",
    "    action = random.choice(env.unwrapped.get_valid_actions())\n",
    "    observation, reward, terminated, truncated, info = env.step(action)\n",
    "    done = terminated or truncated\n",
    "    render(env.game)\n",
    "    # open_link(env.game)  # opens game in browser\n",
    "    if done:\n",
    "        observation, info = env.reset()\n",
    "env.close()"
   ]
  },
  {
   "cell_type": "code",
   "execution_count": null,
   "metadata": {},
   "outputs": [],
   "source": []
  }
 ],
 "metadata": {
  "kernelspec": {
   "display_name": "catan",
   "language": "python",
   "name": "python3"
  },
  "language_info": {
   "codemirror_mode": {
    "name": "ipython",
    "version": 3
   },
   "file_extension": ".py",
   "mimetype": "text/x-python",
   "name": "python",
   "nbconvert_exporter": "python",
   "pygments_lexer": "ipython3",
   "version": "3.11.10"
  }
 },
 "nbformat": 4,
 "nbformat_minor": 2
}
