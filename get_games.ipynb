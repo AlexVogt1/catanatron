{
 "cells": [
  {
   "cell_type": "code",
   "execution_count": 1,
   "metadata": {},
   "outputs": [],
   "source": [
    "import random\n",
    "import gymnasium as gym\n",
    "from pprint import pprint\n",
    "from catanatron import Color,RandomPlayer\n",
    "from catanatron.players.weighted_random import WeightedRandomPlayer, DevCardRandomPlayer, DoNothingRandomPlayer,CityRandomPlayer,SettlementRandomPlayer,LongestRoadRandomPlayer\n",
    "from catanatron_gym.rewards import reward_function\n",
    "from catanatron_gym.features import create_sample_vector, create_sample\n",
    "from sklearn.model_selection import train_test_split\n",
    "from sklearn.utils import shuffle\n",
    "import json\n",
    "\n",
    "from catanatron.players.search import VictoryPointPlayer\n",
    "from catanatron_experimental.machine_learning.players.value import ValueFunctionPlayer\n",
    "from catanatron_gym.envs.catanatron_env import from_action_space\n",
    "from catanatron.json import GameEncoder\n",
    "import gymnasium as gym\n",
    "import numpy as np\n",
    "\n",
    "from stable_baselines3 import PPO\n",
    "from catanatron_gym.features import create_sample_vector, get_feature_ordering,create_sample\n",
    "from catanatron_gym.envs.catanatron_env import from_action_space\n",
    "# FEATURES = get_feature_ordering\n",
    "from pprint import pprint\n",
    "import random\n",
    "import pandas as pd\n",
    "\n",
    "from catanatron_experimental.machine_learning.players.minimax import AlphaBetaPlayer\n",
    "\n",
    "from selenium import webdriver\n",
    "from catanatron_server.utils import open_link,ensure_link\n",
    "import webbrowser\n",
    "import time\n",
    "import os"
   ]
  },
  {
   "cell_type": "code",
   "execution_count": 2,
   "metadata": {},
   "outputs": [],
   "source": [
    "def render(game,ep,step):\n",
    "    ep_dir = f\"./games/episode_{ep}/states\"\n",
    "    geckodriver_path = \"/snap/bin/geckodriver\"\n",
    "    driver_service = webdriver.FirefoxService(executable_path=geckodriver_path)\n",
    "\n",
    "    driver = webdriver.Firefox(service=driver_service)\n",
    "    link = ensure_link(game)\n",
    "    driver.get(link)\n",
    "    time.sleep(1)\n",
    "    # driver.get_screenshot_as_png('image.png')\n",
    "    driver.save_screenshot(f'./games/episode_{ep}/states/step_{step}.png')\n",
    "    # print(driver.get_screenshot_as_png()) \n",
    "    driver.close()\n",
    "    # TODO: save using screenshot as png then convert to pil"
   ]
  },
  {
   "cell_type": "code",
   "execution_count": 5,
   "metadata": {},
   "outputs": [],
   "source": [
    "def run_switch_agent(env_config, agent_path=\"./logs/Catan_Switch_Exp/exp_019/latest_model_10000000_steps\"):\n",
    "    # \"./logs/Catan_Switch_Exp/exp_019/latest_model_10000000_steps\"\n",
    "    best_path = \"../logs/Catan_Switch_Exp/exp_014/best_model.zip\"\n",
    "    latest_path = \"../logs/Catan_Switch_Exp/exp_004/latest_model_1000000_steps.zip\"\n",
    "    features = None\n",
    "    try:\n",
    "        env = gym.make(\"catanatron_gym:catanatron-switch-v1\", config=env_config)\n",
    "        print(\"Made env using config\")\n",
    "    except:\n",
    "        env = gym.make(\"catanatron_gym:catanatron-switch-v1\")\n",
    "        print('Made env without config')\n",
    "\n",
    "    observation, info = env.reset()\n",
    "    model = PPO.load(path=agent_path, env=env)\n",
    "\n",
    "    for ep in range(20):\n",
    "        ep_state_dir = f\"./games/episode_{ep}/states\"\n",
    "        os.makedirs(ep_state_dir, exist_ok=True)\n",
    "        episode_data = []  # Store data for current episode\n",
    "        episode_info = []  # Store info for current episode\n",
    "\n",
    "        for step in range(1000):\n",
    "            action = model.predict(observation=observation, deterministic=True)\n",
    "            record = create_sample(env.game, env.p0.color)\n",
    "            features = sorted(record.keys())  # Get list of feature names in same order as observation\n",
    "            episode_data.append([ep, step, observation.tolist(), action[0]])\n",
    "            # print(observation)\n",
    "            observation, reward, terminated, truncated, info = env.step(action[0])\n",
    "            # render(env.game,ep=ep,step=step)\n",
    "            done = terminated or truncated\n",
    "            # print(env.p0.color)\n",
    "            if done:\n",
    "                # env.unwrapped.game.state()\n",
    "                game_json = GameEncoder().default(env.game)\n",
    "\n",
    "                episode_info.append(info) \n",
    "                save_episode_data(ep, episode_data, episode_info, features,env)\n",
    "                episode_info.append(info)  # Save info at the end of each episode\n",
    "                # print(env.p0.color)\n",
    "                # render(env.game,ep=ep,step=step)\n",
    "                observation, info = env.reset()\n",
    "                break\n",
    "\n",
    "        # Save the episode data and info\n",
    "        # save_episode_data(ep, episode_data, episode_info, features,env)\n",
    "\n",
    "    env.close()\n",
    "\n",
    "def save_episode_data(ep, data, info, features,env):\n",
    "    # Create directory for the episode\n",
    "    ep_dir = f\"./games/episode_{ep}\"\n",
    "    os.makedirs(ep_dir, exist_ok=True)\n",
    "    ep_state_dir = f\"./games/episode_{ep}/states\"\n",
    "    os.makedirs(ep_state_dir, exist_ok=True)\n",
    "\n",
    "    # Convert data to DataFrame and save as CSV\n",
    "    df = pd.DataFrame(data, columns=[\"ep\",\"step\",'obs', 'action'])\n",
    "    print(df.dtypes)\n",
    "    df.to_csv(f\"{ep_dir}/episode_{ep}_data.csv\", index=False)\n",
    "\n",
    "    # Save info as JSON\n",
    "    with open(f\"{ep_dir}/episode_{ep}_info.json\", 'w') as f:\n",
    "        json.dump(info, f, indent=4)\n",
    "\n",
    "    game_json = GameEncoder().default(env.game)\n",
    "    # pprint(game_json)\n",
    "    print(info)\n",
    "    # my_json= json.loads(game_json)\n",
    "    with open(f\"{ep_dir}/episode_{ep}_game.json\",'w') as f:\n",
    "        f.write(json.dumps(game_json, cls=GameEncoder,indent=4))\n",
    "        # json.dump(game_json, f, indent=4,cls=GameEncoder)\n",
    "    with open(f\"{ep_dir}/episode_{ep}_game.txt\",'w') as f:\n",
    "        f.write(str(game_json))\n",
    "        # json.dump(game_json, f, indent=4,cls=GameEncoder)\n",
    "    # # Optionally save feature list\n",
    "    # with open(f\"{ep_dir}/episode_{ep}_features.json\", 'w') as f:\n",
    "    #     json.dump(features, f, indent=4)\n"
   ]
  },
  {
   "cell_type": "code",
   "execution_count": 6,
   "metadata": {},
   "outputs": [
    {
     "name": "stdout",
     "output_type": "stream",
     "text": [
      "running switch env\n",
      "{'enemies': [VictoryPointPlayer:RED], 'map_type': 'TOURNAMENT'}\n",
      "Made env using config\n",
      "Wrapping the env with a `Monitor` wrapper\n",
      "Wrapping the env in a DummyVecEnv.\n"
     ]
    },
    {
     "name": "stderr",
     "output_type": "stream",
     "text": [
      "/home/alex/anaconda3/envs/catan/lib/python3.11/site-packages/gymnasium/core.py:311: UserWarning: \u001b[33mWARN: env.p0 to get variables from other wrappers is deprecated and will be removed in v1.0, to get this variable you can do `env.unwrapped.p0` for environment variables or `env.get_wrapper_attr('p0')` that will search the reminding wrappers.\u001b[0m\n",
      "  logger.warn(\n"
     ]
    },
    {
     "name": "stdout",
     "output_type": "stream",
     "text": [
      "ep         int64\n",
      "step       int64\n",
      "obs       object\n",
      "action    object\n",
      "dtype: object\n",
      "[{'game_stats': {'actions_count': 0, 'num_turns': 236, 'p0_winning': True}, 'p0_stats': {'p0_vp': 10, 'p0_actual_vp': 10, 'p0_has_road': True, 'p0_has_army': True, 'p0_longest_road_length': 7, 'p0_cities': 1, 'p0_settlements': 4}, 'p1_stats': {'p1_vp': 2, 'p1_actual_vp': 2, 'p1_has_road': False, 'p1_has_army': False, 'p1_longest_road_length': 1, 'p1_cities': 0, 'p1_settlements': 2}, 'valid_actions': {'valid_actions': [289, 276, 273, 275, 274]}}]\n"
     ]
    },
    {
     "name": "stderr",
     "output_type": "stream",
     "text": [
      "/home/alex/anaconda3/envs/catan/lib/python3.11/site-packages/gymnasium/core.py:311: UserWarning: \u001b[33mWARN: env.game to get variables from other wrappers is deprecated and will be removed in v1.0, to get this variable you can do `env.unwrapped.game` for environment variables or `env.get_wrapper_attr('game')` that will search the reminding wrappers.\u001b[0m\n",
      "  logger.warn(\n",
      "/home/alex/anaconda3/envs/catan/lib/python3.11/site-packages/gymnasium/core.py:311: UserWarning: \u001b[33mWARN: env.p0 to get variables from other wrappers is deprecated and will be removed in v1.0, to get this variable you can do `env.unwrapped.p0` for environment variables or `env.get_wrapper_attr('p0')` that will search the reminding wrappers.\u001b[0m\n",
      "  logger.warn(\n"
     ]
    },
    {
     "name": "stdout",
     "output_type": "stream",
     "text": [
      "ep         int64\n",
      "step       int64\n",
      "obs       object\n",
      "action    object\n",
      "dtype: object\n",
      "[{'game_stats': {'actions_count': 0, 'num_turns': 164, 'p0_winning': True}, 'p0_stats': {'p0_vp': 9, 'p0_actual_vp': 10, 'p0_has_road': True, 'p0_has_army': False, 'p0_longest_road_length': 12, 'p0_cities': 1, 'p0_settlements': 5}, 'p1_stats': {'p1_vp': 2, 'p1_actual_vp': 2, 'p1_has_road': False, 'p1_has_army': False, 'p1_longest_road_length': 8, 'p1_cities': 0, 'p1_settlements': 2}, 'valid_actions': {'valid_actions': [289]}}]\n"
     ]
    },
    {
     "name": "stderr",
     "output_type": "stream",
     "text": [
      "/home/alex/anaconda3/envs/catan/lib/python3.11/site-packages/gymnasium/core.py:311: UserWarning: \u001b[33mWARN: env.game to get variables from other wrappers is deprecated and will be removed in v1.0, to get this variable you can do `env.unwrapped.game` for environment variables or `env.get_wrapper_attr('game')` that will search the reminding wrappers.\u001b[0m\n",
      "  logger.warn(\n",
      "/home/alex/anaconda3/envs/catan/lib/python3.11/site-packages/gymnasium/core.py:311: UserWarning: \u001b[33mWARN: env.p0 to get variables from other wrappers is deprecated and will be removed in v1.0, to get this variable you can do `env.unwrapped.p0` for environment variables or `env.get_wrapper_attr('p0')` that will search the reminding wrappers.\u001b[0m\n",
      "  logger.warn(\n"
     ]
    },
    {
     "name": "stdout",
     "output_type": "stream",
     "text": [
      "ep         int64\n",
      "step       int64\n",
      "obs       object\n",
      "action    object\n",
      "dtype: object\n",
      "[{'game_stats': {'actions_count': 0, 'num_turns': 359, 'p0_winning': False}, 'p0_stats': {'p0_vp': 4, 'p0_actual_vp': 4, 'p0_has_road': False, 'p0_has_army': False, 'p0_longest_road_length': 2, 'p0_cities': 2, 'p0_settlements': 0}, 'p1_stats': {'p1_vp': 9, 'p1_actual_vp': 10, 'p1_has_road': True, 'p1_has_army': True, 'p1_longest_road_length': 7, 'p1_cities': 1, 'p1_settlements': 3}, 'valid_actions': {'valid_actions': [289, 240, 238, 237, 239]}}]\n"
     ]
    },
    {
     "name": "stderr",
     "output_type": "stream",
     "text": [
      "/home/alex/anaconda3/envs/catan/lib/python3.11/site-packages/gymnasium/core.py:311: UserWarning: \u001b[33mWARN: env.game to get variables from other wrappers is deprecated and will be removed in v1.0, to get this variable you can do `env.unwrapped.game` for environment variables or `env.get_wrapper_attr('game')` that will search the reminding wrappers.\u001b[0m\n",
      "  logger.warn(\n",
      "/home/alex/anaconda3/envs/catan/lib/python3.11/site-packages/gymnasium/core.py:311: UserWarning: \u001b[33mWARN: env.p0 to get variables from other wrappers is deprecated and will be removed in v1.0, to get this variable you can do `env.unwrapped.p0` for environment variables or `env.get_wrapper_attr('p0')` that will search the reminding wrappers.\u001b[0m\n",
      "  logger.warn(\n"
     ]
    },
    {
     "name": "stdout",
     "output_type": "stream",
     "text": [
      "ep         int64\n",
      "step       int64\n",
      "obs       object\n",
      "action    object\n",
      "dtype: object\n",
      "[{'game_stats': {'actions_count': 0, 'num_turns': 206, 'p0_winning': True}, 'p0_stats': {'p0_vp': 10, 'p0_actual_vp': 10, 'p0_has_road': True, 'p0_has_army': True, 'p0_longest_road_length': 9, 'p0_cities': 1, 'p0_settlements': 4}, 'p1_stats': {'p1_vp': 2, 'p1_actual_vp': 2, 'p1_has_road': False, 'p1_has_army': False, 'p1_longest_road_length': 1, 'p1_cities': 0, 'p1_settlements': 2}, 'valid_actions': {'valid_actions': [289, 264, 261, 262, 263]}}]\n"
     ]
    },
    {
     "name": "stderr",
     "output_type": "stream",
     "text": [
      "/home/alex/anaconda3/envs/catan/lib/python3.11/site-packages/gymnasium/core.py:311: UserWarning: \u001b[33mWARN: env.game to get variables from other wrappers is deprecated and will be removed in v1.0, to get this variable you can do `env.unwrapped.game` for environment variables or `env.get_wrapper_attr('game')` that will search the reminding wrappers.\u001b[0m\n",
      "  logger.warn(\n",
      "/home/alex/anaconda3/envs/catan/lib/python3.11/site-packages/gymnasium/core.py:311: UserWarning: \u001b[33mWARN: env.p0 to get variables from other wrappers is deprecated and will be removed in v1.0, to get this variable you can do `env.unwrapped.p0` for environment variables or `env.get_wrapper_attr('p0')` that will search the reminding wrappers.\u001b[0m\n",
      "  logger.warn(\n"
     ]
    },
    {
     "name": "stdout",
     "output_type": "stream",
     "text": [
      "ep         int64\n",
      "step       int64\n",
      "obs       object\n",
      "action    object\n",
      "dtype: object\n",
      "[{'game_stats': {'actions_count': 0, 'num_turns': 538, 'p0_winning': True}, 'p0_stats': {'p0_vp': 6, 'p0_actual_vp': 10, 'p0_has_road': False, 'p0_has_army': True, 'p0_longest_road_length': 6, 'p0_cities': 1, 'p0_settlements': 2}, 'p1_stats': {'p1_vp': 7, 'p1_actual_vp': 7, 'p1_has_road': True, 'p1_has_army': False, 'p1_longest_road_length': 12, 'p1_cities': 0, 'p1_settlements': 5}, 'valid_actions': {'valid_actions': [289]}}]\n"
     ]
    },
    {
     "name": "stderr",
     "output_type": "stream",
     "text": [
      "/home/alex/anaconda3/envs/catan/lib/python3.11/site-packages/gymnasium/core.py:311: UserWarning: \u001b[33mWARN: env.game to get variables from other wrappers is deprecated and will be removed in v1.0, to get this variable you can do `env.unwrapped.game` for environment variables or `env.get_wrapper_attr('game')` that will search the reminding wrappers.\u001b[0m\n",
      "  logger.warn(\n",
      "/home/alex/anaconda3/envs/catan/lib/python3.11/site-packages/gymnasium/core.py:311: UserWarning: \u001b[33mWARN: env.p0 to get variables from other wrappers is deprecated and will be removed in v1.0, to get this variable you can do `env.unwrapped.p0` for environment variables or `env.get_wrapper_attr('p0')` that will search the reminding wrappers.\u001b[0m\n",
      "  logger.warn(\n"
     ]
    },
    {
     "name": "stdout",
     "output_type": "stream",
     "text": [
      "ep         int64\n",
      "step       int64\n",
      "obs       object\n",
      "action    object\n",
      "dtype: object\n",
      "[{'game_stats': {'actions_count': 0, 'num_turns': 882, 'p0_winning': True}, 'p0_stats': {'p0_vp': 8, 'p0_actual_vp': 10, 'p0_has_road': True, 'p0_has_army': True, 'p0_longest_road_length': 7, 'p0_cities': 0, 'p0_settlements': 4}, 'p1_stats': {'p1_vp': 2, 'p1_actual_vp': 2, 'p1_has_road': False, 'p1_has_army': False, 'p1_longest_road_length': 1, 'p1_cities': 0, 'p1_settlements': 2}, 'valid_actions': {'valid_actions': [289]}}]\n"
     ]
    },
    {
     "name": "stderr",
     "output_type": "stream",
     "text": [
      "/home/alex/anaconda3/envs/catan/lib/python3.11/site-packages/gymnasium/core.py:311: UserWarning: \u001b[33mWARN: env.game to get variables from other wrappers is deprecated and will be removed in v1.0, to get this variable you can do `env.unwrapped.game` for environment variables or `env.get_wrapper_attr('game')` that will search the reminding wrappers.\u001b[0m\n",
      "  logger.warn(\n",
      "/home/alex/anaconda3/envs/catan/lib/python3.11/site-packages/gymnasium/core.py:311: UserWarning: \u001b[33mWARN: env.p0 to get variables from other wrappers is deprecated and will be removed in v1.0, to get this variable you can do `env.unwrapped.p0` for environment variables or `env.get_wrapper_attr('p0')` that will search the reminding wrappers.\u001b[0m\n",
      "  logger.warn(\n"
     ]
    },
    {
     "name": "stdout",
     "output_type": "stream",
     "text": [
      "ep         int64\n",
      "step       int64\n",
      "obs       object\n",
      "action    object\n",
      "dtype: object\n",
      "[{'game_stats': {'actions_count': 0, 'num_turns': 278, 'p0_winning': True}, 'p0_stats': {'p0_vp': 8, 'p0_actual_vp': 10, 'p0_has_road': True, 'p0_has_army': True, 'p0_longest_road_length': 10, 'p0_cities': 1, 'p0_settlements': 2}, 'p1_stats': {'p1_vp': 2, 'p1_actual_vp': 2, 'p1_has_road': False, 'p1_has_army': False, 'p1_longest_road_length': 2, 'p1_cities': 0, 'p1_settlements': 2}, 'valid_actions': {'valid_actions': [289]}}]\n",
      "ep         int64\n",
      "step       int64\n",
      "obs       object\n",
      "action    object\n",
      "dtype: object\n",
      "[{'game_stats': {'actions_count': 0, 'num_turns': 101, 'p0_winning': False}, 'p0_stats': {'p0_vp': 4, 'p0_actual_vp': 4, 'p0_has_road': False, 'p0_has_army': False, 'p0_longest_road_length': 4, 'p0_cities': 2, 'p0_settlements': 0}, 'p1_stats': {'p1_vp': 11, 'p1_actual_vp': 11, 'p1_has_road': True, 'p1_has_army': True, 'p1_longest_road_length': 6, 'p1_cities': 3, 'p1_settlements': 1}, 'valid_actions': {'valid_actions': [1, 2, 3, 4, 5, 6, 7, 8, 9, 10, 11, 12, 13, 14, 15, 17, 18, 19]}}]\n"
     ]
    },
    {
     "name": "stderr",
     "output_type": "stream",
     "text": [
      "/home/alex/anaconda3/envs/catan/lib/python3.11/site-packages/gymnasium/core.py:311: UserWarning: \u001b[33mWARN: env.game to get variables from other wrappers is deprecated and will be removed in v1.0, to get this variable you can do `env.unwrapped.game` for environment variables or `env.get_wrapper_attr('game')` that will search the reminding wrappers.\u001b[0m\n",
      "  logger.warn(\n",
      "/home/alex/anaconda3/envs/catan/lib/python3.11/site-packages/gymnasium/core.py:311: UserWarning: \u001b[33mWARN: env.p0 to get variables from other wrappers is deprecated and will be removed in v1.0, to get this variable you can do `env.unwrapped.p0` for environment variables or `env.get_wrapper_attr('p0')` that will search the reminding wrappers.\u001b[0m\n",
      "  logger.warn(\n",
      "/home/alex/anaconda3/envs/catan/lib/python3.11/site-packages/gymnasium/core.py:311: UserWarning: \u001b[33mWARN: env.game to get variables from other wrappers is deprecated and will be removed in v1.0, to get this variable you can do `env.unwrapped.game` for environment variables or `env.get_wrapper_attr('game')` that will search the reminding wrappers.\u001b[0m\n",
      "  logger.warn(\n",
      "/home/alex/anaconda3/envs/catan/lib/python3.11/site-packages/gymnasium/core.py:311: UserWarning: \u001b[33mWARN: env.p0 to get variables from other wrappers is deprecated and will be removed in v1.0, to get this variable you can do `env.unwrapped.p0` for environment variables or `env.get_wrapper_attr('p0')` that will search the reminding wrappers.\u001b[0m\n",
      "  logger.warn(\n"
     ]
    },
    {
     "name": "stdout",
     "output_type": "stream",
     "text": [
      "ep         int64\n",
      "step       int64\n",
      "obs       object\n",
      "action    object\n",
      "dtype: object\n",
      "[{'game_stats': {'actions_count': 0, 'num_turns': 232, 'p0_winning': True}, 'p0_stats': {'p0_vp': 9, 'p0_actual_vp': 10, 'p0_has_road': True, 'p0_has_army': True, 'p0_longest_road_length': 7, 'p0_cities': 0, 'p0_settlements': 5}, 'p1_stats': {'p1_vp': 2, 'p1_actual_vp': 2, 'p1_has_road': False, 'p1_has_army': False, 'p1_longest_road_length': 2, 'p1_cities': 0, 'p1_settlements': 2}, 'valid_actions': {'valid_actions': [289, 251, 252, 249, 250]}}]\n"
     ]
    },
    {
     "name": "stderr",
     "output_type": "stream",
     "text": [
      "/home/alex/anaconda3/envs/catan/lib/python3.11/site-packages/gymnasium/core.py:311: UserWarning: \u001b[33mWARN: env.game to get variables from other wrappers is deprecated and will be removed in v1.0, to get this variable you can do `env.unwrapped.game` for environment variables or `env.get_wrapper_attr('game')` that will search the reminding wrappers.\u001b[0m\n",
      "  logger.warn(\n",
      "/home/alex/anaconda3/envs/catan/lib/python3.11/site-packages/gymnasium/core.py:311: UserWarning: \u001b[33mWARN: env.p0 to get variables from other wrappers is deprecated and will be removed in v1.0, to get this variable you can do `env.unwrapped.p0` for environment variables or `env.get_wrapper_attr('p0')` that will search the reminding wrappers.\u001b[0m\n",
      "  logger.warn(\n"
     ]
    },
    {
     "name": "stdout",
     "output_type": "stream",
     "text": [
      "ep         int64\n",
      "step       int64\n",
      "obs       object\n",
      "action    object\n",
      "dtype: object\n",
      "[{'game_stats': {'actions_count': 0, 'num_turns': 1000, 'p0_winning': False}, 'p0_stats': {'p0_vp': 2, 'p0_actual_vp': 2, 'p0_has_road': False, 'p0_has_army': False, 'p0_longest_road_length': 1, 'p0_cities': 0, 'p0_settlements': 2}, 'p1_stats': {'p1_vp': 6, 'p1_actual_vp': 8, 'p1_has_road': True, 'p1_has_army': True, 'p1_longest_road_length': 6, 'p1_cities': 0, 'p1_settlements': 2}, 'valid_actions': {'valid_actions': [0]}}]\n"
     ]
    },
    {
     "name": "stderr",
     "output_type": "stream",
     "text": [
      "/home/alex/anaconda3/envs/catan/lib/python3.11/site-packages/gymnasium/core.py:311: UserWarning: \u001b[33mWARN: env.game to get variables from other wrappers is deprecated and will be removed in v1.0, to get this variable you can do `env.unwrapped.game` for environment variables or `env.get_wrapper_attr('game')` that will search the reminding wrappers.\u001b[0m\n",
      "  logger.warn(\n",
      "/home/alex/anaconda3/envs/catan/lib/python3.11/site-packages/gymnasium/core.py:311: UserWarning: \u001b[33mWARN: env.p0 to get variables from other wrappers is deprecated and will be removed in v1.0, to get this variable you can do `env.unwrapped.p0` for environment variables or `env.get_wrapper_attr('p0')` that will search the reminding wrappers.\u001b[0m\n",
      "  logger.warn(\n"
     ]
    },
    {
     "name": "stdout",
     "output_type": "stream",
     "text": [
      "ep         int64\n",
      "step       int64\n",
      "obs       object\n",
      "action    object\n",
      "dtype: object\n",
      "[{'game_stats': {'actions_count': 0, 'num_turns': 196, 'p0_winning': True}, 'p0_stats': {'p0_vp': 9, 'p0_actual_vp': 10, 'p0_has_road': True, 'p0_has_army': True, 'p0_longest_road_length': 5, 'p0_cities': 2, 'p0_settlements': 1}, 'p1_stats': {'p1_vp': 2, 'p1_actual_vp': 2, 'p1_has_road': False, 'p1_has_army': False, 'p1_longest_road_length': 1, 'p1_cities': 0, 'p1_settlements': 2}, 'valid_actions': {'valid_actions': [289, 257, 259, 260, 258]}}]\n"
     ]
    },
    {
     "name": "stderr",
     "output_type": "stream",
     "text": [
      "/home/alex/anaconda3/envs/catan/lib/python3.11/site-packages/gymnasium/core.py:311: UserWarning: \u001b[33mWARN: env.game to get variables from other wrappers is deprecated and will be removed in v1.0, to get this variable you can do `env.unwrapped.game` for environment variables or `env.get_wrapper_attr('game')` that will search the reminding wrappers.\u001b[0m\n",
      "  logger.warn(\n",
      "/home/alex/anaconda3/envs/catan/lib/python3.11/site-packages/gymnasium/core.py:311: UserWarning: \u001b[33mWARN: env.p0 to get variables from other wrappers is deprecated and will be removed in v1.0, to get this variable you can do `env.unwrapped.p0` for environment variables or `env.get_wrapper_attr('p0')` that will search the reminding wrappers.\u001b[0m\n",
      "  logger.warn(\n"
     ]
    },
    {
     "name": "stdout",
     "output_type": "stream",
     "text": [
      "ep         int64\n",
      "step       int64\n",
      "obs       object\n",
      "action    object\n",
      "dtype: object\n",
      "[{'game_stats': {'actions_count': 0, 'num_turns': 182, 'p0_winning': True}, 'p0_stats': {'p0_vp': 9, 'p0_actual_vp': 10, 'p0_has_road': True, 'p0_has_army': True, 'p0_longest_road_length': 5, 'p0_cities': 2, 'p0_settlements': 1}, 'p1_stats': {'p1_vp': 2, 'p1_actual_vp': 2, 'p1_has_road': False, 'p1_has_army': False, 'p1_longest_road_length': 2, 'p1_cities': 0, 'p1_settlements': 2}, 'valid_actions': {'valid_actions': [1, 2, 3, 4, 5, 6, 7, 8, 9, 10, 11, 12, 13, 14, 15, 17, 18, 19]}}]\n"
     ]
    },
    {
     "name": "stderr",
     "output_type": "stream",
     "text": [
      "/home/alex/anaconda3/envs/catan/lib/python3.11/site-packages/gymnasium/core.py:311: UserWarning: \u001b[33mWARN: env.game to get variables from other wrappers is deprecated and will be removed in v1.0, to get this variable you can do `env.unwrapped.game` for environment variables or `env.get_wrapper_attr('game')` that will search the reminding wrappers.\u001b[0m\n",
      "  logger.warn(\n",
      "/home/alex/anaconda3/envs/catan/lib/python3.11/site-packages/gymnasium/core.py:311: UserWarning: \u001b[33mWARN: env.p0 to get variables from other wrappers is deprecated and will be removed in v1.0, to get this variable you can do `env.unwrapped.p0` for environment variables or `env.get_wrapper_attr('p0')` that will search the reminding wrappers.\u001b[0m\n",
      "  logger.warn(\n"
     ]
    },
    {
     "name": "stdout",
     "output_type": "stream",
     "text": [
      "ep         int64\n",
      "step       int64\n",
      "obs       object\n",
      "action    object\n",
      "dtype: object\n",
      "[{'game_stats': {'actions_count': 0, 'num_turns': 179, 'p0_winning': False}, 'p0_stats': {'p0_vp': 3, 'p0_actual_vp': 3, 'p0_has_road': False, 'p0_has_army': False, 'p0_longest_road_length': 2, 'p0_cities': 0, 'p0_settlements': 3}, 'p1_stats': {'p1_vp': 8, 'p1_actual_vp': 10, 'p1_has_road': True, 'p1_has_army': True, 'p1_longest_road_length': 10, 'p1_cities': 0, 'p1_settlements': 4}, 'valid_actions': {'valid_actions': [289, 201]}}]\n"
     ]
    },
    {
     "name": "stderr",
     "output_type": "stream",
     "text": [
      "/home/alex/anaconda3/envs/catan/lib/python3.11/site-packages/gymnasium/core.py:311: UserWarning: \u001b[33mWARN: env.game to get variables from other wrappers is deprecated and will be removed in v1.0, to get this variable you can do `env.unwrapped.game` for environment variables or `env.get_wrapper_attr('game')` that will search the reminding wrappers.\u001b[0m\n",
      "  logger.warn(\n",
      "/home/alex/anaconda3/envs/catan/lib/python3.11/site-packages/gymnasium/core.py:311: UserWarning: \u001b[33mWARN: env.p0 to get variables from other wrappers is deprecated and will be removed in v1.0, to get this variable you can do `env.unwrapped.p0` for environment variables or `env.get_wrapper_attr('p0')` that will search the reminding wrappers.\u001b[0m\n",
      "  logger.warn(\n"
     ]
    },
    {
     "name": "stdout",
     "output_type": "stream",
     "text": [
      "ep         int64\n",
      "step       int64\n",
      "obs       object\n",
      "action    object\n",
      "dtype: object\n",
      "[{'game_stats': {'actions_count': 0, 'num_turns': 379, 'p0_winning': False}, 'p0_stats': {'p0_vp': 2, 'p0_actual_vp': 2, 'p0_has_road': False, 'p0_has_army': False, 'p0_longest_road_length': 6, 'p0_cities': 0, 'p0_settlements': 2}, 'p1_stats': {'p1_vp': 7, 'p1_actual_vp': 10, 'p1_has_road': True, 'p1_has_army': True, 'p1_longest_road_length': 10, 'p1_cities': 0, 'p1_settlements': 3}, 'valid_actions': {'valid_actions': [289, 253, 254, 256, 255]}}]\n"
     ]
    },
    {
     "name": "stderr",
     "output_type": "stream",
     "text": [
      "/home/alex/anaconda3/envs/catan/lib/python3.11/site-packages/gymnasium/core.py:311: UserWarning: \u001b[33mWARN: env.game to get variables from other wrappers is deprecated and will be removed in v1.0, to get this variable you can do `env.unwrapped.game` for environment variables or `env.get_wrapper_attr('game')` that will search the reminding wrappers.\u001b[0m\n",
      "  logger.warn(\n",
      "/home/alex/anaconda3/envs/catan/lib/python3.11/site-packages/gymnasium/core.py:311: UserWarning: \u001b[33mWARN: env.p0 to get variables from other wrappers is deprecated and will be removed in v1.0, to get this variable you can do `env.unwrapped.p0` for environment variables or `env.get_wrapper_attr('p0')` that will search the reminding wrappers.\u001b[0m\n",
      "  logger.warn(\n"
     ]
    },
    {
     "name": "stdout",
     "output_type": "stream",
     "text": [
      "ep         int64\n",
      "step       int64\n",
      "obs       object\n",
      "action    object\n",
      "dtype: object\n",
      "[{'game_stats': {'actions_count': 0, 'num_turns': 302, 'p0_winning': True}, 'p0_stats': {'p0_vp': 8, 'p0_actual_vp': 10, 'p0_has_road': True, 'p0_has_army': True, 'p0_longest_road_length': 12, 'p0_cities': 1, 'p0_settlements': 2}, 'p1_stats': {'p1_vp': 2, 'p1_actual_vp': 2, 'p1_has_road': False, 'p1_has_army': False, 'p1_longest_road_length': 6, 'p1_cities': 0, 'p1_settlements': 2}, 'valid_actions': {'valid_actions': [1, 2, 4, 5, 6, 7, 8, 9, 10, 11, 12, 13, 14, 15, 16, 17, 18, 19]}}]\n"
     ]
    },
    {
     "name": "stderr",
     "output_type": "stream",
     "text": [
      "/home/alex/anaconda3/envs/catan/lib/python3.11/site-packages/gymnasium/core.py:311: UserWarning: \u001b[33mWARN: env.game to get variables from other wrappers is deprecated and will be removed in v1.0, to get this variable you can do `env.unwrapped.game` for environment variables or `env.get_wrapper_attr('game')` that will search the reminding wrappers.\u001b[0m\n",
      "  logger.warn(\n",
      "/home/alex/anaconda3/envs/catan/lib/python3.11/site-packages/gymnasium/core.py:311: UserWarning: \u001b[33mWARN: env.p0 to get variables from other wrappers is deprecated and will be removed in v1.0, to get this variable you can do `env.unwrapped.p0` for environment variables or `env.get_wrapper_attr('p0')` that will search the reminding wrappers.\u001b[0m\n",
      "  logger.warn(\n"
     ]
    },
    {
     "name": "stdout",
     "output_type": "stream",
     "text": [
      "ep         int64\n",
      "step       int64\n",
      "obs       object\n",
      "action    object\n",
      "dtype: object\n",
      "[{'game_stats': {'actions_count': 0, 'num_turns': 443, 'p0_winning': False}, 'p0_stats': {'p0_vp': 2, 'p0_actual_vp': 2, 'p0_has_road': False, 'p0_has_army': False, 'p0_longest_road_length': 4, 'p0_cities': 0, 'p0_settlements': 2}, 'p1_stats': {'p1_vp': 8, 'p1_actual_vp': 10, 'p1_has_road': True, 'p1_has_army': True, 'p1_longest_road_length': 7, 'p1_cities': 0, 'p1_settlements': 4}, 'valid_actions': {'valid_actions': [289]}}]\n"
     ]
    },
    {
     "name": "stderr",
     "output_type": "stream",
     "text": [
      "/home/alex/anaconda3/envs/catan/lib/python3.11/site-packages/gymnasium/core.py:311: UserWarning: \u001b[33mWARN: env.game to get variables from other wrappers is deprecated and will be removed in v1.0, to get this variable you can do `env.unwrapped.game` for environment variables or `env.get_wrapper_attr('game')` that will search the reminding wrappers.\u001b[0m\n",
      "  logger.warn(\n",
      "/home/alex/anaconda3/envs/catan/lib/python3.11/site-packages/gymnasium/core.py:311: UserWarning: \u001b[33mWARN: env.p0 to get variables from other wrappers is deprecated and will be removed in v1.0, to get this variable you can do `env.unwrapped.p0` for environment variables or `env.get_wrapper_attr('p0')` that will search the reminding wrappers.\u001b[0m\n",
      "  logger.warn(\n"
     ]
    },
    {
     "name": "stdout",
     "output_type": "stream",
     "text": [
      "ep         int64\n",
      "step       int64\n",
      "obs       object\n",
      "action    object\n",
      "dtype: object\n",
      "[{'game_stats': {'actions_count': 0, 'num_turns': 570, 'p0_winning': True}, 'p0_stats': {'p0_vp': 8, 'p0_actual_vp': 10, 'p0_has_road': True, 'p0_has_army': True, 'p0_longest_road_length': 9, 'p0_cities': 0, 'p0_settlements': 4}, 'p1_stats': {'p1_vp': 4, 'p1_actual_vp': 4, 'p1_has_road': False, 'p1_has_army': False, 'p1_longest_road_length': 2, 'p1_cities': 2, 'p1_settlements': 0}, 'valid_actions': {'valid_actions': [289]}}]\n"
     ]
    },
    {
     "name": "stderr",
     "output_type": "stream",
     "text": [
      "/home/alex/anaconda3/envs/catan/lib/python3.11/site-packages/gymnasium/core.py:311: UserWarning: \u001b[33mWARN: env.game to get variables from other wrappers is deprecated and will be removed in v1.0, to get this variable you can do `env.unwrapped.game` for environment variables or `env.get_wrapper_attr('game')` that will search the reminding wrappers.\u001b[0m\n",
      "  logger.warn(\n",
      "/home/alex/anaconda3/envs/catan/lib/python3.11/site-packages/gymnasium/core.py:311: UserWarning: \u001b[33mWARN: env.p0 to get variables from other wrappers is deprecated and will be removed in v1.0, to get this variable you can do `env.unwrapped.p0` for environment variables or `env.get_wrapper_attr('p0')` that will search the reminding wrappers.\u001b[0m\n",
      "  logger.warn(\n"
     ]
    },
    {
     "name": "stdout",
     "output_type": "stream",
     "text": [
      "ep         int64\n",
      "step       int64\n",
      "obs       object\n",
      "action    object\n",
      "dtype: object\n",
      "[{'game_stats': {'actions_count': 0, 'num_turns': 192, 'p0_winning': True}, 'p0_stats': {'p0_vp': 10, 'p0_actual_vp': 10, 'p0_has_road': True, 'p0_has_army': True, 'p0_longest_road_length': 5, 'p0_cities': 2, 'p0_settlements': 2}, 'p1_stats': {'p1_vp': 3, 'p1_actual_vp': 3, 'p1_has_road': False, 'p1_has_army': False, 'p1_longest_road_length': 4, 'p1_cities': 0, 'p1_settlements': 3}, 'valid_actions': {'valid_actions': [289, 39, 40, 23, 57, 61, 60, 81, 32, 85, 52, 67, 69]}}]\n"
     ]
    },
    {
     "name": "stderr",
     "output_type": "stream",
     "text": [
      "/home/alex/anaconda3/envs/catan/lib/python3.11/site-packages/gymnasium/core.py:311: UserWarning: \u001b[33mWARN: env.game to get variables from other wrappers is deprecated and will be removed in v1.0, to get this variable you can do `env.unwrapped.game` for environment variables or `env.get_wrapper_attr('game')` that will search the reminding wrappers.\u001b[0m\n",
      "  logger.warn(\n",
      "/home/alex/anaconda3/envs/catan/lib/python3.11/site-packages/gymnasium/core.py:311: UserWarning: \u001b[33mWARN: env.p0 to get variables from other wrappers is deprecated and will be removed in v1.0, to get this variable you can do `env.unwrapped.p0` for environment variables or `env.get_wrapper_attr('p0')` that will search the reminding wrappers.\u001b[0m\n",
      "  logger.warn(\n"
     ]
    },
    {
     "name": "stdout",
     "output_type": "stream",
     "text": [
      "ep         int64\n",
      "step       int64\n",
      "obs       object\n",
      "action    object\n",
      "dtype: object\n",
      "[{'game_stats': {'actions_count': 0, 'num_turns': 485, 'p0_winning': False}, 'p0_stats': {'p0_vp': 2, 'p0_actual_vp': 2, 'p0_has_road': False, 'p0_has_army': False, 'p0_longest_road_length': 2, 'p0_cities': 0, 'p0_settlements': 2}, 'p1_stats': {'p1_vp': 8, 'p1_actual_vp': 11, 'p1_has_road': True, 'p1_has_army': True, 'p1_longest_road_length': 12, 'p1_cities': 0, 'p1_settlements': 4}, 'valid_actions': {'valid_actions': [1, 2, 3, 4, 5, 6, 7, 8, 9, 10, 11, 12, 13, 14, 15, 17, 18, 19]}}]\n"
     ]
    },
    {
     "name": "stderr",
     "output_type": "stream",
     "text": [
      "/home/alex/anaconda3/envs/catan/lib/python3.11/site-packages/gymnasium/core.py:311: UserWarning: \u001b[33mWARN: env.game to get variables from other wrappers is deprecated and will be removed in v1.0, to get this variable you can do `env.unwrapped.game` for environment variables or `env.get_wrapper_attr('game')` that will search the reminding wrappers.\u001b[0m\n",
      "  logger.warn(\n"
     ]
    }
   ],
   "source": [
    "config={\n",
    "        \"enemies\": [VictoryPointPlayer(Color.RED)],\n",
    "        # \"enemies\": [ValueFunctionPlayer(Color.RED)],\n",
    "        # \"enemies\": [AlphaBetaPlayer(Color.RED,depth=1)],\n",
    "        \"map_type\":\"TOURNAMENT\"}\n",
    "run_switch_agent(config)"
   ]
  },
  {
   "cell_type": "code",
   "execution_count": null,
   "metadata": {},
   "outputs": [],
   "source": []
  }
 ],
 "metadata": {
  "kernelspec": {
   "display_name": "catan",
   "language": "python",
   "name": "python3"
  },
  "language_info": {
   "codemirror_mode": {
    "name": "ipython",
    "version": 3
   },
   "file_extension": ".py",
   "mimetype": "text/x-python",
   "name": "python",
   "nbconvert_exporter": "python",
   "pygments_lexer": "ipython3",
   "version": "3.11.10"
  }
 },
 "nbformat": 4,
 "nbformat_minor": 2
}
